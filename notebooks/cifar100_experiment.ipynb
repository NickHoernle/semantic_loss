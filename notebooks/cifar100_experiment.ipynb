{
 "cells": [
  {
   "cell_type": "code",
   "execution_count": 18,
   "metadata": {},
   "outputs": [
    {
     "name": "stdout",
     "output_type": "stream",
     "text": [
      "Length of knowledge: 100\n",
      "The autoreload extension is already loaded. To reload it, use:\n",
      "  %reload_ext autoreload\n"
     ]
    }
   ],
   "source": [
    "import os\n",
    "import sys\n",
    "\n",
    "import pandas as pd\n",
    "import numpy as np\n",
    "import matplotlib.pyplot as plt\n",
    "from tqdm import tqdm\n",
    "import torch\n",
    "import torch.nn as nn\n",
    "from torch.nn import functional as F\n",
    "import re\n",
    "\n",
    "%matplotlib inline \n",
    "%load_ext autoreload\n",
    "%autoreload 2"
   ]
  },
  {
   "cell_type": "code",
   "execution_count": 24,
   "metadata": {},
   "outputs": [
    {
     "data": {
      "text/plain": [
       "['slurm-1292809_1.out', 'slurm-1292809_2.out']"
      ]
     },
     "execution_count": 24,
     "metadata": {},
     "output_type": "execute_result"
    }
   ],
   "source": [
    "checkpt_dir = \"../runs/image_exp_results/slurm_logs/\"\n",
    "\n",
    "from os import listdir\n",
    "from os.path import isfile, join\n",
    "\n",
    "runs = [f for f in listdir(checkpt_dir) if \"1292809\" in f]\n",
    "runs = sorted(runs, key=lambda x: int(x.split(\"_\")[1].replace(\".out\", \"\")))\n",
    "runs[: 2]"
   ]
  },
  {
   "cell_type": "code",
   "execution_count": 45,
   "metadata": {},
   "outputs": [],
   "source": [
    "def parse_log_file(lines):\n",
    "    results = {\n",
    "        \"val_acc\": [],\n",
    "        \"val_SC_acc\": [],\n",
    "        \"val_constraint_acc\": [],\n",
    "        \"test_acc\": 0,\n",
    "        \"test_SC_acc\": 0,\n",
    "        \"test_constraint_acc\": 0,\n",
    "    }\n",
    "    for line in lines:\n",
    "        if \"Test\" in line:\n",
    "            _, acc, sc_acc, constr_acc = line.split(\"\\t\")\n",
    "            acc = float(acc.replace(\"Acc \", \"\"))\n",
    "            sc_acc = float(sc_acc.replace(\"AccSC \", \"\"))\n",
    "            constr_acc = float(constr_acc.replace(\"ConstraintAcc \", \"\").strip())\n",
    "\n",
    "            results[\"val_acc\"].append(acc)\n",
    "            results[\"val_SC_acc\"].append(sc_acc)\n",
    "            results[\"val_constraint_acc\"].append(constr_acc)\n",
    "            \n",
    "    results[\"test_acc\"] = results[\"val_acc\"][-1]\n",
    "    results[\"test_SC_acc\"] = results[\"val_SC_acc\"][-1]\n",
    "    results[\"test_constraint_acc\"] = results[\"val_constraint_acc\"][-1]\n",
    "    results[\"val_acc\"] = results[\"val_acc\"][:-4]\n",
    "    results[\"val_SC_acc\"] = results[\"val_SC_acc\"][:-4]\n",
    "    results[\"val_constraint_acc\"] = results[\"val_constraint_acc\"][:-4]\n",
    "            \n",
    "    return results\n",
    "\n",
    "results = []\n",
    "for file in runs:\n",
    "    with open(checkpt_dir + file, \"r\") as f:\n",
    "        results.append(parse_log_file(f.readlines()))"
   ]
  },
  {
   "cell_type": "code",
   "execution_count": 47,
   "metadata": {},
   "outputs": [],
   "source": [
    "def print_results(results, name):\n",
    "    acc = np.mean([r[\"test_acc\"] for r in results])\n",
    "    acc_sd = np.std([r[\"test_acc\"] for r in results])\n",
    "    \n",
    "    SCacc = np.mean([r[\"test_SC_acc\"] for r in results])\n",
    "    SCacc_sd = np.std([r[\"test_SC_acc\"] for r in results])\n",
    "    \n",
    "    const_acc = np.mean([r[\"test_constraint_acc\"] for r in results])\n",
    "    const_acc_sd = np.std([r[\"test_constraint_acc\"] for r in results])\n",
    "    \n",
    "    print(f\"Results for {name}\")\n",
    "    print(f\"Acc: {acc} +- {acc_sd}\")\n",
    "    print(f\"SC Acc: {SCacc} +- {SCacc_sd}\")\n",
    "    print(f\"Const: {const_acc} +- {const_acc_sd}\")\n",
    "    print(\" --------------------------------------- \")"
   ]
  },
  {
   "cell_type": "code",
   "execution_count": 48,
   "metadata": {},
   "outputs": [
    {
     "name": "stdout",
     "output_type": "stream",
     "text": [
      "Results for full baseline\n",
      "Acc: 68.228 +- 0.39168354573558534\n",
      "SC Acc: 78.61599999999999 +- 0.5005836593417762\n",
      "Const: 77.336 +- 0.6591084887937617\n",
      " --------------------------------------- \n"
     ]
    }
   ],
   "source": [
    "full_baseline = results[:5]\n",
    "print_results(full_baseline, name=\"full baseline\")"
   ]
  },
  {
   "cell_type": "code",
   "execution_count": 49,
   "metadata": {},
   "outputs": [
    {
     "name": "stdout",
     "output_type": "stream",
     "text": [
      "Results for full baseline SC only\n",
      "Acc: 78.444 +- 0.25554647326856467\n",
      "SC Acc: nan +- nan\n",
      "Const: nan +- nan\n",
      " --------------------------------------- \n"
     ]
    }
   ],
   "source": [
    "full_baseline = results[5:10]\n",
    "print_results(full_baseline, name=\"full baseline SC only\")"
   ]
  },
  {
   "cell_type": "code",
   "execution_count": 50,
   "metadata": {},
   "outputs": [
    {
     "name": "stdout",
     "output_type": "stream",
     "text": [
      "Results for hierarchical\n",
      "Acc: 63.842 +- 0.3793889824441371\n",
      "SC Acc: 80.098 +- 0.23583044756774107\n",
      "Const: nan +- nan\n",
      " --------------------------------------- \n"
     ]
    }
   ],
   "source": [
    "full_baseline = results[10:15]\n",
    "print_results(full_baseline, name=\"hierarchical\")"
   ]
  },
  {
   "cell_type": "code",
   "execution_count": 51,
   "metadata": {},
   "outputs": [
    {
     "name": "stdout",
     "output_type": "stream",
     "text": [
      "Results for DL2\n",
      "Acc: 68.534 +- 0.3344009569364277\n",
      "SC Acc: 79.05600000000001 +- 0.18227451824103022\n",
      "Const: 80.762 +- 0.45305187340966036\n",
      " --------------------------------------- \n"
     ]
    }
   ],
   "source": [
    "full_baseline = results[15:20]\n",
    "print_results(full_baseline, name=\"DL2\")"
   ]
  },
  {
   "cell_type": "code",
   "execution_count": 52,
   "metadata": {},
   "outputs": [
    {
     "name": "stdout",
     "output_type": "stream",
     "text": [
      "Results for multiplexnet\n",
      "Acc: 67.136 +- 0.6372315120896036\n",
      "SC Acc: 80.552 +- 0.581357033156046\n",
      "Const: 100.0 +- 0.0\n",
      " --------------------------------------- \n"
     ]
    }
   ],
   "source": [
    "full_baseline = results[20:25]\n",
    "print_results(full_baseline, name=\"multiplexnet\")"
   ]
  }
 ],
 "metadata": {
  "kernelspec": {
   "display_name": "sloss",
   "language": "python",
   "name": "sloss"
  },
  "language_info": {
   "codemirror_mode": {
    "name": "ipython",
    "version": 3
   },
   "file_extension": ".py",
   "mimetype": "text/x-python",
   "name": "python",
   "nbconvert_exporter": "python",
   "pygments_lexer": "ipython3",
   "version": "3.8.5"
  }
 },
 "nbformat": 4,
 "nbformat_minor": 2
}
